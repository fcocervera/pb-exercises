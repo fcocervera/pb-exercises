{
 "cells": [
  {
   "cell_type": "code",
   "execution_count": 1,
   "metadata": {},
   "outputs": [
    {
     "name": "stderr",
     "output_type": "stream",
     "text": [
      "..........\n",
      "----------------------------------------------------------------------\n",
      "Ran 10 tests in 0.009s\n",
      "\n",
      "OK\n"
     ]
    },
    {
     "data": {
      "text/plain": [
       "<unittest.runner.TextTestResult run=10 errors=0 failures=0>"
      ]
     },
     "execution_count": 1,
     "metadata": {},
     "output_type": "execute_result"
    }
   ],
   "source": [
    "from block import BlockTest\n",
    "import unittest\n",
    "\n",
    "suite = unittest.TestLoader().loadTestsFromModule(BlockTest())\n",
    "unittest.TextTestRunner().run(suite)\n"
   ]
  },
  {
   "cell_type": "code",
   "execution_count": 2,
   "metadata": {},
   "outputs": [
    {
     "name": "stderr",
     "output_type": "stream",
     "text": [
      "..\n",
      "----------------------------------------------------------------------\n",
      "Ran 2 tests in 0.003s\n",
      "\n",
      "OK\n"
     ]
    },
    {
     "data": {
      "text/plain": [
       "<unittest.runner.TextTestResult run=2 errors=0 failures=0>"
      ]
     },
     "execution_count": 2,
     "metadata": {},
     "output_type": "execute_result"
    }
   ],
   "source": [
    "from network import NetworkEnvelopeTest\n",
    "import unittest\n",
    "\n",
    "suite = unittest.TestLoader().loadTestsFromModule(NetworkEnvelopeTest())\n",
    "unittest.TextTestRunner().run(suite)\n"
   ]
  },
  {
   "cell_type": "code",
   "execution_count": 3,
   "metadata": {},
   "outputs": [
    {
     "name": "stdout",
     "output_type": "stream",
     "text": [
      "b'd6ee6bc8864e5c08a5753d3886148fb1193d4cd2773b568d5df91acc8babbcac'\n"
     ]
    }
   ],
   "source": [
    "from binascii import hexlify, unhexlify\n",
    "from helper import double_sha256\n",
    "tx_hashes = [\n",
    "    'f54cb69e5dc1bd38ee6901e4ec2007a5030e14bdd60afb4d2f3428c88eea17c1',\n",
    "    'c57c2d678da0a7ee8cfa058f1cf49bfcb00ae21eda966640e312b464414731c1',\n",
    "    'b027077c94668a84a5d0e72ac0020bae3838cb7f9ee3fa4e81d1eecf6eda91f3',\n",
    "    '8131a1b8ec3a815b4800b43dff6c6963c75193c4190ec946b93245a9928a233d',\n",
    "    'ae7d63ffcb3ae2bc0681eca0df10dda3ca36dedb9dbf49e33c5fbe33262f0910',\n",
    "    '61a14b1bbdcdda8a22e61036839e8b110913832efd4b086948a6a64fd5b3377d',\n",
    "    'fc7051c8b536ac87344c5497595d5d2ffdaba471c73fae15fe9228547ea71881',\n",
    "    '77386a46e26f69b3cd435aa4faac932027f58d0b7252e62fb6c9c2489887f6df',\n",
    "    '59cbc055ccd26a2c4c4df2770382c7fea135c56d9e75d3f758ac465f74c025b8',\n",
    "    '7c2bf5687f19785a61be9f46e031ba041c7f93e2b7e9212799d84ba052395195',\n",
    "    '08598eebd94c18b0d59ac921e9ba99e2b8ab7d9fccde7d44f2bd4d5e2e726d2e',\n",
    "    'f0bb99ef46b029dd6f714e4b12a7d796258c48fee57324ebdc0bbc4700753ab1',\n",
    "]\n",
    "levels = []\n",
    "current_level = [unhexlify(x)[::-1] for x in tx_hashes]\n",
    "if len(current_level) != 1 and len(current_level) % 2 == 1:\n",
    "    current_level.append(current_level[-1])\n",
    "levels.append(current_level)\n",
    "while len(current_level) > 1:\n",
    "    next_level = [double_sha256(current_level[i] + current_level[i+1]) for i in range(0, len(current_level), 2)]\n",
    "    if len(next_level) != 1 and len(next_level) % 2 == 1:\n",
    "        next_level.append(next_level[-1])\n",
    "    levels.append(next_level)\n",
    "    current_level = next_level\n",
    "print(hexlify(levels[-1][0][::-1]))"
   ]
  },
  {
   "cell_type": "code",
   "execution_count": 4,
   "metadata": {},
   "outputs": [
    {
     "data": {
      "text/plain": [
       "True"
      ]
     },
     "execution_count": 4,
     "metadata": {},
     "output_type": "execute_result"
    }
   ],
   "source": [
    "from binascii import unhexlify\n",
    "from helper import double_sha256\n",
    "import requests\n",
    "\n",
    "url = 'https://api.blockcypher.com/v1/btc/test3/blocks/0000000000000451fa80fcdb243b84c35eaae215a85a8faa880559e8239e6f20'\n",
    "block = requests.get(url).json()\n",
    "merkle_root = unhexlify(block['mrkl_root'])\n",
    "tx_hashes = [\n",
    "    '42f6f52f17620653dcc909e58bb352e0bd4bd1381e2955d19c00959a22122b2e',\n",
    "    '94c3af34b9667bf787e1c6a0a009201589755d01d02fe2877cc69b929d2418d4',\n",
    "    '959428d7c48113cb9149d0566bde3d46e98cf028053c522b8fa8f735241aa953',\n",
    "    'a9f27b99d5d108dede755710d4a1ffa2c74af70b4ca71726fa57d68454e609a2',\n",
    "    '62af110031e29de1efcad103b3ad4bec7bdcf6cb9c9f4afdd586981795516577',\n",
    "    '766900590ece194667e9da2984018057512887110bf54fe0aa800157aec796ba',\n",
    "    'e8270fb475763bc8d855cfe45ed98060988c1bdcad2ffc8364f783c98999a208',\n",
    "    '921b8cfd3e14bf41f028f0a3aa88c813d5039a2b1bceb12208535b0b43a5d09e',\n",
    "    '15535864799652347cec66cba473f6d8291541238e58b2e03b046bc53cfe1321',\n",
    "    '1c8af7c502971e67096456eac9cd5407aacf62190fc54188995666a30faf99f0',\n",
    "    '3311f8acc57e8a3e9b68e2945fb4f53c07b0fa4668a7e5cda6255c21558c774d',\n",
    "]\n",
    "levels = []\n",
    "current_level = [unhexlify(x)[::-1] for x in tx_hashes]\n",
    "if len(current_level) != 1 and len(current_level) % 2 == 1:\n",
    "    current_level.append(current_level[-1])\n",
    "levels.append(current_level)\n",
    "while len(current_level) > 1:\n",
    "    next_level = [double_sha256(current_level[i] + current_level[i+1]) for i in range(0, len(current_level), 2)]\n",
    "    if len(next_level) != 1 and len(next_level) % 2 == 1:\n",
    "        next_level.append(next_level[-1])\n",
    "    levels.append(next_level)\n",
    "    current_level = next_level\n",
    "levels[-1][0][::-1] == merkle_root"
   ]
  },
  {
   "cell_type": "code",
   "execution_count": 5,
   "metadata": {},
   "outputs": [
    {
     "name": "stdout",
     "output_type": "stream",
     "text": [
      "[10, b'Mw\\x8cU!\\\\%\\xa6\\xcd\\xe5\\xa7hF\\xfa\\xb0\\x07<\\xf5\\xb4_\\x94\\xe2h\\x9b>\\x8a~\\xc5\\xac\\xf8\\x113', b'\\xa8\\x1f\\x05\\xbd\\x8c`\\xa5;\\x1d9\\xf2<\\xf7-\\xd7\\xdcK\\xcbd\\x10?\\xab*\\xa3!_\\xc4\\xecyl\\xe0U', b\",\\xbe\\x8f\\xc5x\\\\\\xb9\\xce\\xbfy\\xfci\\x0f\\x1a'\\xe6h\\x8d[\\xa8\\xa0Gr\\x0bD\\xd4\\xfb\\xc5C\\x99\\x06`\", b'\\xf5\\xaeG\\xf8M^\\x1e@\\xf4\\xf3\\xf5<\\xa7\\xef\\xacH\\x86\\x86/\\nOy\\xdd\\xab\\x93\\xf3\\xf6\\xa9c\\x02i[']\n"
     ]
    },
    {
     "data": {
      "text/plain": [
       "True"
      ]
     },
     "execution_count": 5,
     "metadata": {},
     "output_type": "execute_result"
    }
   ],
   "source": [
    "from binascii import unhexlify\n",
    "from helper import double_sha256\n",
    "\n",
    "tx_hashes = [\n",
    "    '42f6f52f17620653dcc909e58bb352e0bd4bd1381e2955d19c00959a22122b2e',\n",
    "    '94c3af34b9667bf787e1c6a0a009201589755d01d02fe2877cc69b929d2418d4',\n",
    "    '959428d7c48113cb9149d0566bde3d46e98cf028053c522b8fa8f735241aa953',\n",
    "    'a9f27b99d5d108dede755710d4a1ffa2c74af70b4ca71726fa57d68454e609a2',\n",
    "    '62af110031e29de1efcad103b3ad4bec7bdcf6cb9c9f4afdd586981795516577',\n",
    "    '766900590ece194667e9da2984018057512887110bf54fe0aa800157aec796ba',\n",
    "    'e8270fb475763bc8d855cfe45ed98060988c1bdcad2ffc8364f783c98999a208',\n",
    "    '921b8cfd3e14bf41f028f0a3aa88c813d5039a2b1bceb12208535b0b43a5d09e',\n",
    "    '15535864799652347cec66cba473f6d8291541238e58b2e03b046bc53cfe1321',\n",
    "    '1c8af7c502971e67096456eac9cd5407aacf62190fc54188995666a30faf99f0',\n",
    "    '3311f8acc57e8a3e9b68e2945fb4f53c07b0fa4668a7e5cda6255c21558c774d',\n",
    "]\n",
    "levels = []\n",
    "current_level = [unhexlify(x)[::-1] for x in tx_hashes]\n",
    "if len(current_level) != 1 and len(current_level) % 2 == 1:\n",
    "    current_level.append(current_level[-1])\n",
    "levels.append(current_level)\n",
    "while len(current_level) > 1:\n",
    "    next_level = [double_sha256(current_level[i] + current_level[i+1]) for i in range(0, len(current_level), 2)]\n",
    "    if len(next_level) != 1 and len(next_level) % 2 == 1:\n",
    "        next_level.append(next_level[-1])\n",
    "    levels.append(next_level)\n",
    "    current_level = next_level\n",
    "item_num = 10\n",
    "proof = [item_num]\n",
    "current = levels[0][item_num]\n",
    "for level in levels[:-1]:\n",
    "    if item_num % 2 == 0:\n",
    "        current = double_sha256(current + level[item_num+1])\n",
    "        proof.append(level[item_num+1])\n",
    "    else:\n",
    "        current = double_sha256(level[item_num-1] + current)\n",
    "        proof.append(level[item_num-1])\n",
    "    item_num = item_num // 2\n",
    "print(proof)\n",
    "current == levels[-1][0]"
   ]
  },
  {
   "cell_type": "code",
   "execution_count": 6,
   "metadata": {},
   "outputs": [
    {
     "data": {
      "text/plain": [
       "True"
      ]
     },
     "execution_count": 6,
     "metadata": {},
     "output_type": "execute_result"
    }
   ],
   "source": [
    "# Exercise 2\n",
    "\n",
    "from binascii import unhexlify\n",
    "from helper import double_sha256\n",
    "\n",
    "tx_hashes = [\n",
    "    '42f6f52f17620653dcc909e58bb352e0bd4bd1381e2955d19c00959a22122b2e',\n",
    "    '94c3af34b9667bf787e1c6a0a009201589755d01d02fe2877cc69b929d2418d4',\n",
    "    '959428d7c48113cb9149d0566bde3d46e98cf028053c522b8fa8f735241aa953',\n",
    "    'a9f27b99d5d108dede755710d4a1ffa2c74af70b4ca71726fa57d68454e609a2',\n",
    "    '62af110031e29de1efcad103b3ad4bec7bdcf6cb9c9f4afdd586981795516577',\n",
    "    '766900590ece194667e9da2984018057512887110bf54fe0aa800157aec796ba',\n",
    "    'e8270fb475763bc8d855cfe45ed98060988c1bdcad2ffc8364f783c98999a208',\n",
    "    '921b8cfd3e14bf41f028f0a3aa88c813d5039a2b1bceb12208535b0b43a5d09e',\n",
    "    '15535864799652347cec66cba473f6d8291541238e58b2e03b046bc53cfe1321',\n",
    "    '1c8af7c502971e67096456eac9cd5407aacf62190fc54188995666a30faf99f0',\n",
    "    '3311f8acc57e8a3e9b68e2945fb4f53c07b0fa4668a7e5cda6255c21558c774d',\n",
    "]\n",
    "levels = []\n",
    "current_level = [unhexlify(x)[::-1] for x in tx_hashes]\n",
    "if len(current_level) != 1 and len(current_level) % 2 == 1:\n",
    "    current_level.append(current_level[-1])\n",
    "levels.append(current_level)\n",
    "while len(current_level) > 1:\n",
    "    next_level = [double_sha256(current_level[i] + current_level[i+1]) for i in range(0, len(current_level), 2)]\n",
    "    if len(next_level) != 1 and len(next_level) % 2 == 1:\n",
    "        next_level.append(next_level[-1])\n",
    "    levels.append(next_level)\n",
    "    current_level = next_level\n",
    "    \n",
    "tx_target = unhexlify('e8270fb475763bc8d855cfe45ed98060988c1bdcad2ffc8364f783c98999a208')[::-1]\n",
    "item_num = levels[0].index(tx_target)\n",
    "current = levels[0][item_num]\n",
    "for level in levels[:-1]:\n",
    "    if item_num % 2 == 0:\n",
    "        current = double_sha256(current + level[item_num+1])\n",
    "    else:\n",
    "        current = double_sha256(level[item_num-1] + current)\n",
    "    item_num = item_num // 2\n",
    "current == levels[-1][0]"
   ]
  },
  {
   "cell_type": "code",
   "execution_count": 7,
   "metadata": {},
   "outputs": [
    {
     "name": "stdout",
     "output_type": "stream",
     "text": [
      "b'f9beb4d976657273696f6e000000000066000000c0133b427f1101000d00000000000000346ad45900000000010000000000000000000000000000000000ffffc61b6409208d0d00000000000000000000000000000000000000000000000000546ddf98891ccc9b102f5361746f7368693a302e31342e302f3373070001f9beb4d976657261636b000000000000000000005df6e0e2'\n"
     ]
    }
   ],
   "source": [
    "import socket\n",
    "from binascii import unhexlify, hexlify\n",
    "s = socket.socket(socket.AF_INET, socket.SOCK_STREAM)\n",
    "msg = unhexlify('f9beb4d976657273696f6e0000000000650000005f1a69d2721101000100000000000000bc8f5e5400000000010000000000000000000000000000000000ffffc61b6409208d010000000000000000000000000000000000ffffcb0071c0208d128035cbc97953f80f2f5361746f7368693a302e392e332fcf05050001')\n",
    "s.connect(('46.101.99.121', 8333))\n",
    "s.sendall(msg)\n",
    "data = s.recv(200)\n",
    "print(hexlify(data))\n"
   ]
  },
  {
   "cell_type": "code",
   "execution_count": null,
   "metadata": {},
   "outputs": [],
   "source": []
  }
 ],
 "metadata": {
  "kernelspec": {
   "display_name": "Python 3",
   "language": "python",
   "name": "python3"
  },
  "language_info": {
   "codemirror_mode": {
    "name": "ipython",
    "version": 3
   },
   "file_extension": ".py",
   "mimetype": "text/x-python",
   "name": "python",
   "nbconvert_exporter": "python",
   "pygments_lexer": "ipython3",
   "version": "3.5.2"
  }
 },
 "nbformat": 4,
 "nbformat_minor": 2
}
