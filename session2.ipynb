{
 "cells": [
  {
   "cell_type": "code",
   "execution_count": 1,
   "metadata": {},
   "outputs": [
    {
     "name": "stderr",
     "output_type": "stream",
     "text": [
      "...\n",
      "----------------------------------------------------------------------\n",
      "Ran 3 tests in 0.004s\n",
      "\n",
      "OK\n"
     ]
    },
    {
     "data": {
      "text/plain": [
       "<unittest.runner.TextTestResult run=3 errors=0 failures=0>"
      ]
     },
     "execution_count": 1,
     "metadata": {},
     "output_type": "execute_result"
    }
   ],
   "source": [
    "from ecc import ECCTest\n",
    "import unittest\n",
    "\n",
    "suite = unittest.TestLoader().loadTestsFromModule(ECCTest())\n",
    "unittest.TextTestRunner().run(suite)\n"
   ]
  },
  {
   "cell_type": "code",
   "execution_count": 2,
   "metadata": {},
   "outputs": [
    {
     "name": "stderr",
     "output_type": "stream",
     "text": [
      ".....\n",
      "----------------------------------------------------------------------\n",
      "Ran 5 tests in 1.011s\n",
      "\n",
      "OK\n"
     ]
    },
    {
     "data": {
      "text/plain": [
       "<unittest.runner.TextTestResult run=5 errors=0 failures=0>"
      ]
     },
     "execution_count": 2,
     "metadata": {},
     "output_type": "execute_result"
    }
   ],
   "source": [
    "from ecc import S256Test\n",
    "import unittest\n",
    "\n",
    "suite = unittest.TestLoader().loadTestsFromModule(S256Test())\n",
    "unittest.TextTestRunner().run(suite)"
   ]
  },
  {
   "cell_type": "code",
   "execution_count": 3,
   "metadata": {},
   "outputs": [
    {
     "name": "stderr",
     "output_type": "stream",
     "text": [
      ".\n",
      "----------------------------------------------------------------------\n",
      "Ran 1 test in 0.323s\n",
      "\n",
      "OK\n"
     ]
    },
    {
     "data": {
      "text/plain": [
       "<unittest.runner.TextTestResult run=1 errors=0 failures=0>"
      ]
     },
     "execution_count": 3,
     "metadata": {},
     "output_type": "execute_result"
    }
   ],
   "source": [
    "from ecc import PrivateKeyTest\n",
    "import unittest\n",
    "\n",
    "suite = unittest.TestLoader().loadTestsFromModule(PrivateKeyTest())\n",
    "unittest.TextTestRunner().run(suite)"
   ]
  },
  {
   "cell_type": "code",
   "execution_count": 4,
   "metadata": {},
   "outputs": [
    {
     "name": "stdout",
     "output_type": "stream",
     "text": [
      "(192,105) is on the curve\n",
      "(17,56) is on the curve\n",
      "(200,119) is not on the curve\n",
      "(1,193) is on the curve\n",
      "(42,99) is not on the curve\n"
     ]
    }
   ],
   "source": [
    "# Exercise 1\n",
    "\n",
    "points = ((192,105), (17,56), (200,119), (1,193), (42,99))\n",
    "\n",
    "for point in points:\n",
    "    if point[1]**2 % 223 == (point[0]**3 + 7) % 223:\n",
    "        print('({},{}) is on the curve'.format(point[0], point[1]))\n",
    "    else:\n",
    "        print('({},{}) is not on the curve'.format(point[0], point[1]))"
   ]
  },
  {
   "cell_type": "code",
   "execution_count": 5,
   "metadata": {},
   "outputs": [
    {
     "name": "stdout",
     "output_type": "stream",
     "text": [
      "(170, 142)\n",
      "(60, 139)\n",
      "(47, 71)\n"
     ]
    }
   ],
   "source": [
    "# Exercise 2\n",
    "\n",
    "def add_points(i, j):\n",
    "    x1, y1 = i\n",
    "    x2, y2 = j\n",
    "    s=(y2-y1)*pow(x2-x1, 221, 223) % 223\n",
    "    x3=(s**2-x1-x2) % 223\n",
    "    y3=(s*(x1-x3)-y1) % 223\n",
    "    return (x3, y3)\n",
    "\n",
    "print(add_points((192,105), (17,56)))\n",
    "print(add_points((47,71),(117,141)))\n",
    "print(add_points((143,98),(76,66)))\n"
   ]
  },
  {
   "cell_type": "code",
   "execution_count": 6,
   "metadata": {},
   "outputs": [
    {
     "name": "stdout",
     "output_type": "stream",
     "text": [
      "(49, 71)\n",
      "(64, 168)\n",
      "(36, 111)\n",
      "(194, 51)\n",
      "(116, 55)\n",
      "(None, None)\n"
     ]
    }
   ],
   "source": [
    "# Exercise 3\n",
    "\n",
    "def add_points(i, j):\n",
    "    x1, y1 = i\n",
    "    x2, y2 = j\n",
    "    if i == j:\n",
    "        s=(3*x1**2)*pow(2*y1, 221, 223) % 223\n",
    "        x3=(s**2-2*x1) % 223\n",
    "        y3=(s*(x1-x3)-y1) % 223\n",
    "    elif x1 == x2:\n",
    "        return (None, None)\n",
    "    else:\n",
    "        s=(y2-y1)*pow(x2-x1, 221, 223) % 223\n",
    "        x3=(s**2-x1-x2) % 223\n",
    "        y3=(s*(x1-x3)-y1) % 223\n",
    "    return (x3, y3)\n",
    "\n",
    "def multiply_points(n, point):\n",
    "    current = point\n",
    "    for _ in range(n-1):\n",
    "        current = add_points(point, current)\n",
    "    return current\n",
    "            \n",
    "print(multiply_points(2, (192,105)))\n",
    "print(multiply_points(2, (143,98)))\n",
    "print(multiply_points(2, (47,71)))\n",
    "print(multiply_points(4, (47,71)))\n",
    "print(multiply_points(8, (47,71)))\n",
    "print(multiply_points(21, (47,71)))\n"
   ]
  },
  {
   "cell_type": "code",
   "execution_count": 7,
   "metadata": {},
   "outputs": [
    {
     "name": "stdout",
     "output_type": "stream",
     "text": [
      "7\n"
     ]
    }
   ],
   "source": [
    "# Exercise 4\n",
    "\n",
    "def add_points(i, j):\n",
    "    x1, y1 = i\n",
    "    x2, y2 = j\n",
    "    if i == j:\n",
    "        s=(3*x1**2)*pow(2*y1, 221, 223) % 223\n",
    "        x3=(s**2-2*x1) % 223\n",
    "        y3=(s*(x1-x3)-y1) % 223\n",
    "    elif x1 == x2:\n",
    "        return (None, None)\n",
    "    else:\n",
    "        s=(y2-y1)*pow(x2-x1, 221, 223) % 223\n",
    "        x3=(s**2-x1-x2) % 223\n",
    "        y3=(s*(x1-x3)-y1) % 223\n",
    "    return (x3, y3)\n",
    "\n",
    "e = 1\n",
    "current = (15, 86)\n",
    "while current != (None, None):\n",
    "    current = add_points(current, (15, 86))\n",
    "    e += 1\n",
    "print(e)"
   ]
  },
  {
   "cell_type": "code",
   "execution_count": 8,
   "metadata": {},
   "outputs": [
    {
     "data": {
      "text/plain": [
       "True"
      ]
     },
     "execution_count": 8,
     "metadata": {},
     "output_type": "execute_result"
    }
   ],
   "source": [
    "x = 0x79BE667EF9DCBBAC55A06295CE870B07029BFCDB2DCE28D959F2815B16F81798\n",
    "y = 0x483ADA7726A3C4655DA4FBFC0E1108A8FD17B448A68554199C47D08FFB10D4B8\n",
    "p = 2**256 - 2**32 - 977\n",
    "y**2 % p == (x**3 + 7) % p\n"
   ]
  },
  {
   "cell_type": "code",
   "execution_count": 9,
   "metadata": {},
   "outputs": [
    {
     "data": {
      "text/plain": [
       "Point(infinity)"
      ]
     },
     "execution_count": 9,
     "metadata": {},
     "output_type": "execute_result"
    }
   ],
   "source": [
    "x = 0x79BE667EF9DCBBAC55A06295CE870B07029BFCDB2DCE28D959F2815B16F81798\n",
    "y = 0x483ADA7726A3C4655DA4FBFC0E1108A8FD17B448A68554199C47D08FFB10D4B8\n",
    "n = 0xFFFFFFFFFFFFFFFFFFFFFFFFFFFFFFFEBAAEDCE6AF48A03BBFD25E8CD0364141\n",
    "from ecc import G\n",
    "n*G"
   ]
  },
  {
   "cell_type": "code",
   "execution_count": 10,
   "metadata": {},
   "outputs": [
    {
     "name": "stdout",
     "output_type": "stream",
     "text": [
      "Point(9680241112d370b56da22eb535745d9e314380e568229e09f7241066003bc471,ddac2d377f03c201ffa0419d6596d10327d6c70313bb492ff495f946285d8f38)\n"
     ]
    }
   ],
   "source": [
    "from ecc import G\n",
    "secret = 999\n",
    "point = secret*G\n",
    "print(point)"
   ]
  },
  {
   "cell_type": "code",
   "execution_count": 11,
   "metadata": {},
   "outputs": [
    {
     "name": "stdout",
     "output_type": "stream",
     "text": [
      "Point(5cbdf0646e5db4eaa398f365f2ea7a0e3d419b7e0330e39ce92bddedcac4f9bc,6aebca40ba255960a3178d6d861a54dba813d0b813fde7b5a5082628087264da)\n",
      "Point(c982196a7466fbbbb0e27a940b6af926c1a74d5ad07128c82824a11b5398afda,7a91f9eae64438afb9ce6448a1c133db2d8fb9254e4546b6f001637d50901f55)\n",
      "Point(8f68b9d2f63b5f339239c1ad981f162ee88c5678723ea3351b7b444c9ec4c0da,662a9f2dba063986de1d90c2b6be215dbbea2cfe95510bfdf23cbf79501fff82)\n",
      "Point(9577ff57c8234558f293df502ca4f09cbc65a6572c842b39b366f21717945116,10b49c67fa9365ad7b90dab070be339a1daf9052373ec30ffae4f72d5e66d053)\n"
     ]
    }
   ],
   "source": [
    "# Exercise 5\n",
    "\n",
    "from ecc import G\n",
    "\n",
    "for s in (7, 1485, 2**128, 2**240+2**31):\n",
    "    print(s*G)\n"
   ]
  },
  {
   "cell_type": "code",
   "execution_count": 12,
   "metadata": {},
   "outputs": [
    {
     "name": "stdout",
     "output_type": "stream",
     "text": [
      "049d5ca49670cbe4c3bfa84c96a8c87df086c6ea6a24ba6b809c9de234496808d56fa15cc7f3d38cda98dee2419f415b7513dde1301f8643cd9245aea7f3f911f9\n",
      "039d5ca49670cbe4c3bfa84c96a8c87df086c6ea6a24ba6b809c9de234496808d5\n",
      "04a598a8030da6d86c6bc7f2f5144ea549d28211ea58faa70ebf4c1e665c1fe9b5204b5d6f84822c307e4b4a7140737aec23fc63b65b35f86a10026dbd2d864e6b\n",
      "03a598a8030da6d86c6bc7f2f5144ea549d28211ea58faa70ebf4c1e665c1fe9b5\n",
      "04aee2e7d843f7430097859e2bc603abcc3274ff8169c1a469fee0f20614066f8e21ec53f40efac47ac1c5211b2123527e0e9b57ede790c4da1e72c91fb7da54a3\n",
      "03aee2e7d843f7430097859e2bc603abcc3274ff8169c1a469fee0f20614066f8e\n"
     ]
    }
   ],
   "source": [
    "# Exercise 6\n",
    "\n",
    "from ecc import G\n",
    "\n",
    "for s in (999**3,123,42424242):\n",
    "    point = s*G\n",
    "    print('04{:x}{:x}'.format(point.x.num, point.y.num))\n",
    "    if point.y.num % 2 == 1:\n",
    "        print('03{:x}'.format(point.x.num))\n",
    "    else:\n",
    "        print('02{:x}'.format(point.x.num))"
   ]
  },
  {
   "cell_type": "code",
   "execution_count": null,
   "metadata": {},
   "outputs": [],
   "source": []
  }
 ],
 "metadata": {
  "kernelspec": {
   "display_name": "Python 3",
   "language": "python",
   "name": "python3"
  },
  "language_info": {
   "codemirror_mode": {
    "name": "ipython",
    "version": 3
   },
   "file_extension": ".py",
   "mimetype": "text/x-python",
   "name": "python",
   "nbconvert_exporter": "python",
   "pygments_lexer": "ipython3",
   "version": "3.5.2"
  }
 },
 "nbformat": 4,
 "nbformat_minor": 2
}
