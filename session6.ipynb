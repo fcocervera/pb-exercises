{
 "cells": [
  {
   "cell_type": "code",
   "execution_count": 1,
   "metadata": {},
   "outputs": [
    {
     "name": "stderr",
     "output_type": "stream",
     "text": [
      "................\n",
      "----------------------------------------------------------------------\n",
      "Ran 16 tests in 0.815s\n",
      "\n",
      "OK\n"
     ]
    },
    {
     "data": {
      "text/plain": [
       "<unittest.runner.TextTestResult run=16 errors=0 failures=0>"
      ]
     },
     "execution_count": 1,
     "metadata": {},
     "output_type": "execute_result"
    }
   ],
   "source": [
    "from tx import TxTest\n",
    "import unittest\n",
    "\n",
    "suite = unittest.TestLoader().loadTestsFromModule(TxTest())\n",
    "unittest.TextTestRunner().run(suite)\n"
   ]
  },
  {
   "cell_type": "code",
   "execution_count": 2,
   "metadata": {},
   "outputs": [
    {
     "name": "stderr",
     "output_type": "stream",
     "text": [
      "...\n",
      "----------------------------------------------------------------------\n",
      "Ran 3 tests in 0.003s\n",
      "\n",
      "OK\n"
     ]
    },
    {
     "data": {
      "text/plain": [
       "<unittest.runner.TextTestResult run=3 errors=0 failures=0>"
      ]
     },
     "execution_count": 2,
     "metadata": {},
     "output_type": "execute_result"
    }
   ],
   "source": [
    "from script import ScriptTest\n",
    "import unittest\n",
    "\n",
    "suite = unittest.TestLoader().loadTestsFromModule(ScriptTest())\n",
    "unittest.TextTestRunner().run(suite)"
   ]
  },
  {
   "cell_type": "code",
   "execution_count": 3,
   "metadata": {},
   "outputs": [
    {
     "name": "stderr",
     "output_type": "stream",
     "text": [
      "........\n",
      "----------------------------------------------------------------------\n",
      "Ran 8 tests in 0.009s\n",
      "\n",
      "OK\n"
     ]
    },
    {
     "data": {
      "text/plain": [
       "<unittest.runner.TextTestResult run=8 errors=0 failures=0>"
      ]
     },
     "execution_count": 3,
     "metadata": {},
     "output_type": "execute_result"
    }
   ],
   "source": [
    "from block import BlockTest\n",
    "import unittest\n",
    "\n",
    "suite = unittest.TestLoader().loadTestsFromModule(BlockTest())\n",
    "unittest.TextTestRunner().run(suite)"
   ]
  },
  {
   "cell_type": "code",
   "execution_count": 4,
   "metadata": {},
   "outputs": [
    {
     "name": "stdout",
     "output_type": "stream",
     "text": [
      "15hZo812Lx266Dot6T52krxpnhrNiaqHya\n"
     ]
    }
   ],
   "source": [
    "from binascii import unhexlify\n",
    "from helper import h160_to_p2pkh_address\n",
    "from script import Script\n",
    "\n",
    "script_pubkey = Script.parse(unhexlify('76a914338c84849423992471bffb1a54a8d9b1d69dc28a88ac'))\n",
    "print(h160_to_p2pkh_address(script_pubkey.elements[2]))"
   ]
  },
  {
   "cell_type": "code",
   "execution_count": 5,
   "metadata": {},
   "outputs": [
    {
     "name": "stdout",
     "output_type": "stream",
     "text": [
      "b'2375044d646ad73594dd0b37b113becdb03964584c9e7e000000000000000000'\n"
     ]
    }
   ],
   "source": [
    "from binascii import hexlify\n",
    "from helper import double_sha256\n",
    "\n",
    "s256 = double_sha256(unhexlify('020000208ec39428b17323fa0ddec8e887b4a7c53b8c0a0a220cfd0000000000000000005b0750fce0a889502d40508d39576821155e9c9e3f5c3157f961db38fd8b25be1e77a759e93c0118a4ffd71d'))\n",
    "print(hexlify(s256))"
   ]
  },
  {
   "cell_type": "code",
   "execution_count": 6,
   "metadata": {},
   "outputs": [
    {
     "name": "stdout",
     "output_type": "stream",
     "text": [
      "0x13ce9000000000000000000000000000000000000000000\n"
     ]
    }
   ],
   "source": [
    "from binascii import unhexlify\n",
    "\n",
    "bits = unhexlify('e93c0118')\n",
    "exponent = bits[-1]\n",
    "coefficient = int.from_bytes(bits[:-1], 'little')\n",
    "target = coefficient*2**(8*(exponent-3))\n",
    "print(hex(target))"
   ]
  },
  {
   "cell_type": "code",
   "execution_count": 7,
   "metadata": {},
   "outputs": [
    {
     "name": "stdout",
     "output_type": "stream",
     "text": [
      "888171856257\n"
     ]
    }
   ],
   "source": [
    "from binascii import unhexlify\n",
    "\n",
    "bits = unhexlify('e93c0118')\n",
    "exponent = bits[-1]\n",
    "coefficient = int.from_bytes(bits[:-1], 'little')\n",
    "target = coefficient*2**(8*(exponent-3))\n",
    "\n",
    "bits_min = unhexlify('ffff001d')\n",
    "exponent_min = bits_min[-1]\n",
    "coefficient_min = int.from_bytes(bits_min[:-1], 'little')\n",
    "min = coefficient_min*2**(8*(exponent_min-3))\n",
    "\n",
    "difficulty = min // target\n",
    "print(difficulty)"
   ]
  },
  {
   "cell_type": "code",
   "execution_count": 8,
   "metadata": {},
   "outputs": [
    {
     "name": "stdout",
     "output_type": "stream",
     "text": [
      "0x1788f2000000000000000000000000000000000000000000\n",
      "46717549644\n"
     ]
    }
   ],
   "source": [
    "# Exercise 6\n",
    "\n",
    "from binascii import unhexlify\n",
    "\n",
    "bits = unhexlify('f2881718')\n",
    "exponent = bits[-1]\n",
    "coefficient = int.from_bytes(bits[:-1], 'little')\n",
    "target = coefficient*2**(8*(exponent-3))\n",
    "bits_min = unhexlify('ffff001d')\n",
    "exponent_min = bits_min[-1]\n",
    "coefficient_min = int.from_bytes(bits_min[:-1], 'little')\n",
    "min = coefficient_min*2**(8*(exponent_min-3))\n",
    "\n",
    "difficulty = min // target\n",
    "print(hex(target))\n",
    "print(difficulty)"
   ]
  },
  {
   "cell_type": "code",
   "execution_count": 9,
   "metadata": {},
   "outputs": [
    {
     "data": {
      "text/plain": [
       "True"
      ]
     },
     "execution_count": 9,
     "metadata": {},
     "output_type": "execute_result"
    }
   ],
   "source": [
    "# Exercise 7\n",
    "\n",
    "from binascii import unhexlify\n",
    "from helper import double_sha256\n",
    "\n",
    "block_raw = unhexlify('04000000fbedbbf0cfdaf278c094f187f2eb987c86a199da22bbb20400000000000000007b7697b29129648fa08b4bcd13c9d5e60abb973a1efac9c8d573c71c807c56c3d6213557faa80518c3737ec1')\n",
    "s256 = double_sha256(block_raw)\n",
    "proof_of_work = int.from_bytes(s256, 'little')\n",
    "bits = block_raw[-8:-4]\n",
    "exponent = bits[-1]\n",
    "coefficient = int.from_bytes(bits[:-1], 'little')\n",
    "target = coefficient*2**(8*(exponent-3))\n",
    "proof_of_work < target"
   ]
  }
 ],
 "metadata": {
  "kernelspec": {
   "display_name": "Python 3",
   "language": "python",
   "name": "python3"
  },
  "language_info": {
   "codemirror_mode": {
    "name": "ipython",
    "version": 3
   },
   "file_extension": ".py",
   "mimetype": "text/x-python",
   "name": "python",
   "nbconvert_exporter": "python",
   "pygments_lexer": "ipython3",
   "version": "3.5.2"
  }
 },
 "nbformat": 4,
 "nbformat_minor": 2
}
