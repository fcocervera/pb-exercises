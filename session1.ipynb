{
 "cells": [
  {
   "cell_type": "code",
   "execution_count": 1,
   "metadata": {},
   "outputs": [
    {
     "name": "stdout",
     "output_type": "stream",
     "text": [
      "FieldElement_31(2) == FieldElement_31(3) ? False\n",
      "FieldElement_31(2) != FieldElement_31(3) ? True\n"
     ]
    }
   ],
   "source": [
    "from ecc import FieldElement\n",
    "\n",
    "a = FieldElement(num=2, prime=31)\n",
    "b = FieldElement(num=3, prime=31)\n",
    "print(\"{} == {} ? {}\".format(a, b, a==b))\n",
    "print(\"{} != {} ? {}\".format(a, b, a!=b))"
   ]
  },
  {
   "cell_type": "code",
   "execution_count": 2,
   "metadata": {},
   "outputs": [
    {
     "name": "stderr",
     "output_type": "stream",
     "text": [
      ".....\n",
      "----------------------------------------------------------------------\n",
      "Ran 5 tests in 0.005s\n",
      "\n",
      "OK\n"
     ]
    },
    {
     "data": {
      "text/plain": [
       "<unittest.runner.TextTestResult run=5 errors=0 failures=0>"
      ]
     },
     "execution_count": 2,
     "metadata": {},
     "output_type": "execute_result"
    }
   ],
   "source": [
    "from ecc import FieldElementTest\n",
    "import unittest\n",
    "\n",
    "suite = unittest.TestLoader().loadTestsFromModule(FieldElementTest())\n",
    "unittest.TextTestRunner().run(suite)\n"
   ]
  },
  {
   "cell_type": "code",
   "execution_count": 3,
   "metadata": {},
   "outputs": [
    {
     "name": "stdout",
     "output_type": "stream",
     "text": [
      "Point(3,7) == Point(-1,1) ? False\n",
      "Point(3,7) != Point(-1,1) ? True\n"
     ]
    }
   ],
   "source": [
    "from ecc import Point\n",
    "\n",
    "a = Point(x=3, y=7, a=5, b=7)\n",
    "b = Point(x=-1, y=1, a=5, b=7)\n",
    "print(\"{} == {} ? {}\".format(a, b, a==b))\n",
    "print(\"{} != {} ? {}\".format(a, b, a!=b))"
   ]
  },
  {
   "cell_type": "code",
   "execution_count": 4,
   "metadata": {},
   "outputs": [
    {
     "name": "stderr",
     "output_type": "stream",
     "text": [
      "....\n",
      "----------------------------------------------------------------------\n",
      "Ran 4 tests in 0.006s\n",
      "\n",
      "OK\n"
     ]
    },
    {
     "data": {
      "text/plain": [
       "<unittest.runner.TextTestResult run=4 errors=0 failures=0>"
      ]
     },
     "execution_count": 4,
     "metadata": {},
     "output_type": "execute_result"
    }
   ],
   "source": [
    "from ecc import PointTest\n",
    "import unittest\n",
    "\n",
    "suite = unittest.TestLoader().loadTestsFromModule(PointTest())\n",
    "unittest.TextTestRunner().run(suite)\n"
   ]
  },
  {
   "cell_type": "code",
   "execution_count": 5,
   "metadata": {},
   "outputs": [
    {
     "name": "stdout",
     "output_type": "stream",
     "text": [
      "17\n",
      "7\n",
      "25\n",
      "16\n"
     ]
    }
   ],
   "source": [
    "# Exercise 1\n",
    "\n",
    "print((2 + 15) % 31)\n",
    "print((17 + 21) % 31)\n",
    "print((29 - 4) % 31)\n",
    "print((15 - 30) % 31)"
   ]
  },
  {
   "cell_type": "code",
   "execution_count": 6,
   "metadata": {},
   "outputs": [
    {
     "name": "stdout",
     "output_type": "stream",
     "text": [
      "22\n",
      "15\n",
      "16\n"
     ]
    }
   ],
   "source": [
    "# Exercise 2.1\n",
    "\n",
    "print((24 * 19) % 31)\n",
    "print((17**3) % 31)\n",
    "print((5**5 * 18) % 31)"
   ]
  },
  {
   "cell_type": "code",
   "execution_count": 7,
   "metadata": {},
   "outputs": [
    {
     "name": "stdout",
     "output_type": "stream",
     "text": [
      "[0, 1, 2, 3, 4, 5, 6, 7, 8, 9, 10, 11, 12, 13, 14, 15, 16, 17, 18, 19, 20, 21, 22, 23, 24, 25, 26, 27, 28, 29, 30]\n"
     ]
    }
   ],
   "source": [
    "# Exercise 2.2\n",
    "\n",
    "k = 8\n",
    "print(sorted([k*i % 31 for i in range(31)]))"
   ]
  },
  {
   "cell_type": "code",
   "execution_count": 8,
   "metadata": {},
   "outputs": [
    {
     "name": "stdout",
     "output_type": "stream",
     "text": [
      "[0, 1, 1, 1, 1, 1, 1, 1, 1, 1, 1, 1, 1, 1, 1, 1, 1, 1, 1, 1, 1, 1, 1, 1, 1, 1, 1, 1, 1, 1, 1]\n"
     ]
    }
   ],
   "source": [
    "# Exercise 2.3\n",
    "\n",
    "print([i**30 % 31 for i in range(31)])"
   ]
  },
  {
   "cell_type": "code",
   "execution_count": 9,
   "metadata": {},
   "outputs": [
    {
     "name": "stdout",
     "output_type": "stream",
     "text": [
      "4\n",
      "29\n",
      "13\n"
     ]
    }
   ],
   "source": [
    "# Exercise 3.1\n",
    "\n",
    "print((3 * 24**29) % 31)\n",
    "print(((17**29)**3) % 31)\n",
    "print(((4**29)**4 * 11) % 31)"
   ]
  },
  {
   "cell_type": "code",
   "execution_count": 10,
   "metadata": {},
   "outputs": [
    {
     "name": "stdout",
     "output_type": "stream",
     "text": [
      "[0, 1, 2, 3, 4, 5, 6, 7, 8, 9, 10, 11, 12, 13, 14, 15, 16, 17, 18, 19, 20, 21, 22, 23, 24, 25, 26, 27, 28, 29, 30]\n"
     ]
    }
   ],
   "source": [
    "# Exercise 3.2\n",
    "\n",
    "k = 19\n",
    "print(sorted([k*i**29 % 31 for i in range(31)]))"
   ]
  },
  {
   "cell_type": "code",
   "execution_count": 11,
   "metadata": {},
   "outputs": [
    {
     "name": "stdout",
     "output_type": "stream",
     "text": [
      "(-2,4) is not valid\n",
      "(3,7) is valid\n",
      "(18,77) is valid\n"
     ]
    }
   ],
   "source": [
    "# Exercise 4\n",
    "\n",
    "points = ((-2,4), (3,7), (18,77))\n",
    "for point in points:\n",
    "    if point[1]**2 == point[0]**3 + 5 * point[0] + 7:\n",
    "        print('({},{}) is valid'.format(point[0], point[1]))\n",
    "    else:\n",
    "        print('({},{}) is not valid'.format(point[0], point[1]))"
   ]
  },
  {
   "cell_type": "code",
   "execution_count": 12,
   "metadata": {},
   "outputs": [
    {
     "name": "stdout",
     "output_type": "stream",
     "text": [
      "3.0 -7.0\n"
     ]
    }
   ],
   "source": [
    "# Exercise 6\n",
    "\n",
    "x1, y1 = (2,5) \n",
    "x2, y2 = (-1,-1)\n",
    "\n",
    "s=(y2-y1)/(x2-x1)\n",
    "x3=s**2-x1-x2\n",
    "y3=s*(x1-x3)-y1\n",
    "print(x3, y3)"
   ]
  },
  {
   "cell_type": "code",
   "execution_count": 13,
   "metadata": {},
   "outputs": [
    {
     "name": "stdout",
     "output_type": "stream",
     "text": [
      "18.0 -77.0\n"
     ]
    }
   ],
   "source": [
    "# Exercise 7\n",
    "\n",
    "x1, y1 = (-1,1)\n",
    "a = 5\n",
    "s=(3*x1**2+a)/(2*y1)\n",
    "x3=s**2-2*x1\n",
    "y3=s*(x1-x3)-y1\n",
    "print(x3, y3)"
   ]
  }
 ],
 "metadata": {
  "kernelspec": {
   "display_name": "Python 3",
   "language": "python",
   "name": "python3"
  },
  "language_info": {
   "codemirror_mode": {
    "name": "ipython",
    "version": 3
   },
   "file_extension": ".py",
   "mimetype": "text/x-python",
   "name": "python",
   "nbconvert_exporter": "python",
   "pygments_lexer": "ipython3",
   "version": "3.5.2"
  }
 },
 "nbformat": 4,
 "nbformat_minor": 2
}
