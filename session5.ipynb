{
 "cells": [
  {
   "cell_type": "code",
   "execution_count": 1,
   "metadata": {},
   "outputs": [
    {
     "name": "stderr",
     "output_type": "stream",
     "text": [
      "..............\n",
      "----------------------------------------------------------------------\n",
      "Ran 14 tests in 0.801s\n",
      "\n",
      "OK\n"
     ]
    },
    {
     "data": {
      "text/plain": [
       "<unittest.runner.TextTestResult run=14 errors=0 failures=0>"
      ]
     },
     "execution_count": 1,
     "metadata": {},
     "output_type": "execute_result"
    }
   ],
   "source": [
    "from tx import TxTest\n",
    "import unittest\n",
    "\n",
    "suite = unittest.TestLoader().loadTestsFromModule(TxTest())\n",
    "unittest.TextTestRunner().run(suite)\n"
   ]
  },
  {
   "cell_type": "code",
   "execution_count": 2,
   "metadata": {},
   "outputs": [
    {
     "name": "stderr",
     "output_type": "stream",
     "text": [
      "......\n",
      "----------------------------------------------------------------------\n",
      "Ran 6 tests in 0.007s\n",
      "\n",
      "OK\n"
     ]
    },
    {
     "data": {
      "text/plain": [
       "<unittest.runner.TextTestResult run=6 errors=0 failures=0>"
      ]
     },
     "execution_count": 2,
     "metadata": {},
     "output_type": "execute_result"
    }
   ],
   "source": [
    "from helper import HelperTest\n",
    "import unittest\n",
    "\n",
    "suite = unittest.TestLoader().loadTestsFromModule(HelperTest())\n",
    "unittest.TextTestRunner().run(suite)"
   ]
  },
  {
   "cell_type": "code",
   "execution_count": 3,
   "metadata": {},
   "outputs": [
    {
     "name": "stdout",
     "output_type": "stream",
     "text": [
      "b'0100000001c847414138fc4e86c97bce0adfe0180d8716d0db7f43b955ebb7a80f3cbc2500000000006c6b483045022100d40207a9751cbdebf1ac69ffc253641ab50ffb1e420bd376ab0ff9641f315135022022f96ffc14b1b854520de22f1bb1891450d1cd2c0f417321e0c55fa4ad0e3f52012103935581e52c354cd2f484fe8ed83af7a3097005b2f9c60bff71d35bd795f54b67ffffffff02c09ee605000000001976a914d52ad7ca9b3d096a38e752c2018e6fbc40cdf26f88ac80969800000000001976a914507b27411ccf7f16f10297de6cef3f291623eddf88ac00000000'\n"
     ]
    }
   ],
   "source": [
    "from binascii import hexlify, unhexlify\n",
    "from ecc import PrivateKey\n",
    "from helper import decode_base58, p2pkh_script, SIGHASH_ALL\n",
    "from script import Script\n",
    "from tx import TxIn, TxOut, Tx\n",
    "\n",
    "tx_ins = []\n",
    "prev_tx = unhexlify('0025bc3c0fa8b7eb55b9437fdbd016870d18e0df0ace7bc9864efc38414147c8')\n",
    "tx_ins.append(TxIn(\n",
    "            prev_tx=prev_tx,\n",
    "            prev_index=0,\n",
    "            script_sig=b'',\n",
    "            sequence=0xffffffff,\n",
    "        ))\n",
    "tx_outs = []\n",
    "h160 = decode_base58('mzx5YhAH9kNHtcN481u6WkjeHjYtVeKVh2')\n",
    "tx_outs.append(TxOut(\n",
    "    amount=int(0.99*100000000),\n",
    "    script_pubkey=p2pkh_script(h160),\n",
    "))\n",
    "h160 = decode_base58('mnrVtF8DWjMu839VW3rBfgYaAfKk8983Xf')\n",
    "tx_outs.append(TxOut(\n",
    "    amount=int(0.1*100000000),\n",
    "    script_pubkey=p2pkh_script(h160),\n",
    "))\n",
    "tx = Tx(version=1, tx_ins=tx_ins, tx_outs=tx_outs, locktime=0, testnet=True)\n",
    "sighash = SIGHASH_ALL\n",
    "z = tx.hash_to_sign(0, sighash)\n",
    "pk = PrivateKey(secret=8675309)\n",
    "der = pk.sign(z).der()\n",
    "sig = der + bytes([sighash])\n",
    "sec = unhexlify(pk.point.sec())\n",
    "script_sig = bytes([len(sig)]) + sig + bytes([len(sec)]) + sec\n",
    "script_sig = bytes([len(script_sig)]) + script_sig\n",
    "tx.tx_ins[0].script_sig = Script.parse(script_sig)\n",
    "print(hexlify(tx.serialize()))"
   ]
  },
  {
   "cell_type": "code",
   "execution_count": 4,
   "metadata": {},
   "outputs": [
    {
     "name": "stdout",
     "output_type": "stream",
     "text": [
      "b'0100000001869f33fcc53653de763a1e2102aa9c75d1a74d2122cfc2e917f5958ac414eb7e000000006b483045022100b24d980f243ee0a50c5c9be2de51513ec5c92aa7af08a5d1280fd845cb12a37202207c2a81895dd3d02d7f33dc2f5fa4d3cf4b158783c175402133007536df0f7d71012103935581e52c354cd2f484fe8ed83af7a3097005b2f9c60bff71d35bd795f54b67ffffffff02404b4c00000000001976a914507b27411ccf7f16f10297de6cef3f291623eddf88aca0c44a00000000001976a914d52ad7ca9b3d096a38e752c2018e6fbc40cdf26f88ac00000000'\n"
     ]
    }
   ],
   "source": [
    "# Exercise 3\n",
    "\n",
    "from binascii import hexlify, unhexlify\n",
    "from ecc import PrivateKey\n",
    "from helper import decode_base58, p2pkh_script, SIGHASH_ALL\n",
    "from tx import TxIn, TxOut, Tx\n",
    "\n",
    "private_key = PrivateKey(8675309)\n",
    "tx_ins = []\n",
    "prev_tx = unhexlify('7eeb14c48a95f517e9c2cf22214da7d1759caa02211e3a76de5336c5fc339f86')\n",
    "tx_ins.append(TxIn(\n",
    "    prev_tx=prev_tx,\n",
    "    prev_index=0,\n",
    "    script_sig=b'',\n",
    "    sequence=0xffffffff,\n",
    "))\n",
    "tx_outs = []\n",
    "h160 = decode_base58('mnrVtF8DWjMu839VW3rBfgYaAfKk8983Xf')\n",
    "tx_outs.append(TxOut(\n",
    "    amount=int(0.05*100000000),\n",
    "    script_pubkey=p2pkh_script(h160),\n",
    "))\n",
    "h160 = decode_base58('mzx5YhAH9kNHtcN481u6WkjeHjYtVeKVh2')\n",
    "tx_outs.append(TxOut(\n",
    "    amount=int(0.049*100000000),\n",
    "    script_pubkey=p2pkh_script(h160),\n",
    "))\n",
    "tx = Tx(version=1, tx_ins=tx_ins, tx_outs=tx_outs, locktime=0, testnet=True)\n",
    "tx.sign_input(0, private_key, SIGHASH_ALL)\n",
    "print(hexlify(tx.serialize()))"
   ]
  },
  {
   "cell_type": "code",
   "execution_count": 5,
   "metadata": {},
   "outputs": [
    {
     "name": "stdout",
     "output_type": "stream",
     "text": [
      "b'74d691da1574e6b3c192ecfb52cc8984ee7b6c56'\n"
     ]
    }
   ],
   "source": [
    "# Exercise 4\n",
    "\n",
    "from binascii import hexlify, unhexlify\n",
    "from helper import hash160\n",
    "\n",
    "h160 = hash160(unhexlify('5221022626e955ea6ea6d98850c994f9107b036b1334f18ca8830bfff1295d21cfdb702103b287eaf122eea69030a0e9feed096bed8045c8b98bec453e1ffac7fbdbd4bb7152ae'))\n",
    "print(hexlify(h160))"
   ]
  },
  {
   "cell_type": "code",
   "execution_count": 6,
   "metadata": {},
   "outputs": [
    {
     "name": "stdout",
     "output_type": "stream",
     "text": [
      "mrAjisaT4LXL5MzE81sfcDYKU3wqWSvf9q\n"
     ]
    }
   ],
   "source": [
    "from binascii import unhexlify\n",
    "from helper import encode_base58_checksum\n",
    "\n",
    "print(encode_base58_checksum(b'\\x6f'+unhexlify('74d691da1574e6b3c192ecfb52cc8984ee7b6c56')))"
   ]
  },
  {
   "cell_type": "code",
   "execution_count": 7,
   "metadata": {},
   "outputs": [
    {
     "name": "stdout",
     "output_type": "stream",
     "text": [
      "0xe71bfa115715d6fd33796948126f40a8cdd39f187e4afb03896795189fe1423c\n"
     ]
    }
   ],
   "source": [
    "from binascii import unhexlify\n",
    "from helper import double_sha256\n",
    "\n",
    "sha = double_sha256(unhexlify('0100000001868278ed6ddfb6c1ed3ad5f8181eb0c7a385aa0836f01d5e4789e6bd304d87221a000000475221022626e955ea6ea6d98850c994f9107b036b1334f18ca8830bfff1295d21cfdb702103b287eaf122eea69030a0e9feed096bed8045c8b98bec453e1ffac7fbdbd4bb7152aeffffffff04d3b11400000000001976a914904a49878c0adfc3aa05de7afad2cc15f483a56a88ac7f400900000000001976a914418327e3f3dda4cf5b9089325a4b95abdfa0334088ac722c0c00000000001976a914ba35042cfe9fc66fd35ac2224eebdafd1028ad2788acdc4ace020000000017a91474d691da1574e6b3c192ecfb52cc8984ee7b6c56870000000001000000'))\n",
    "z = int.from_bytes(sha, 'big')\n",
    "                    \n",
    "print(hex(z))"
   ]
  },
  {
   "cell_type": "code",
   "execution_count": 8,
   "metadata": {},
   "outputs": [
    {
     "name": "stdout",
     "output_type": "stream",
     "text": [
      "True\n"
     ]
    }
   ],
   "source": [
    "from binascii import hexlify, unhexlify\n",
    "from ecc import S256Point, Signature\n",
    "from helper import double_sha256\n",
    "\n",
    "sha = double_sha256(unhexlify('0100000001868278ed6ddfb6c1ed3ad5f8181eb0c7a385aa0836f01d5e4789e6bd304d87221a000000475221022626e955ea6ea6d98850c994f9107b036b1334f18ca8830bfff1295d21cfdb702103b287eaf122eea69030a0e9feed096bed8045c8b98bec453e1ffac7fbdbd4bb7152aeffffffff04d3b11400000000001976a914904a49878c0adfc3aa05de7afad2cc15f483a56a88ac7f400900000000001976a914418327e3f3dda4cf5b9089325a4b95abdfa0334088ac722c0c00000000001976a914ba35042cfe9fc66fd35ac2224eebdafd1028ad2788acdc4ace020000000017a91474d691da1574e6b3c192ecfb52cc8984ee7b6c56870000000001000000'))\n",
    "z = int.from_bytes(sha, 'big')\n",
    "point = S256Point.parse(unhexlify('022626e955ea6ea6d98850c994f9107b036b1334f18ca8830bfff1295d21cfdb70'))\n",
    "r = 0x00dc92655fe37036f47756db8102e0d7d5e28b3beb83a8fef4f5dc0559bddfb94e\n",
    "s = 0x5a36d4e4e6c7fcd16658c50783e00c341609977aed3ad00937bf4ee942a89937\n",
    "sig = Signature(r,s)\n",
    "print(point.verify(z, sig))"
   ]
  },
  {
   "cell_type": "code",
   "execution_count": 9,
   "metadata": {},
   "outputs": [
    {
     "name": "stdout",
     "output_type": "stream",
     "text": [
      "True\n"
     ]
    }
   ],
   "source": [
    "# Exercise 6.1\n",
    "\n",
    "from binascii import hexlify, unhexlify\n",
    "from ecc import S256Point, Signature\n",
    "from helper import double_sha256\n",
    "\n",
    "sha = double_sha256(unhexlify('0100000001868278ed6ddfb6c1ed3ad5f8181eb0c7a385aa0836f01d5e4789e6bd304d87221a000000475221022626e955ea6ea6d98850c994f9107b036b1334f18ca8830bfff1295d21cfdb702103b287eaf122eea69030a0e9feed096bed8045c8b98bec453e1ffac7fbdbd4bb7152aeffffffff04d3b11400000000001976a914904a49878c0adfc3aa05de7afad2cc15f483a56a88ac7f400900000000001976a914418327e3f3dda4cf5b9089325a4b95abdfa0334088ac722c0c00000000001976a914ba35042cfe9fc66fd35ac2224eebdafd1028ad2788acdc4ace020000000017a91474d691da1574e6b3c192ecfb52cc8984ee7b6c56870000000001000000'))\n",
    "z = int.from_bytes(sha, 'big')\n",
    "point = S256Point.parse(unhexlify('03b287eaf122eea69030a0e9feed096bed8045c8b98bec453e1ffac7fbdbd4bb71'))\n",
    "r = 0x00da6bee3c93766232079a01639d07fa869598749729ae323eab8eef53577d611b\n",
    "s = 0x7bef15429dcadce2121ea07f233115c6f09034c0be68db99980b9a6c5e754022\n",
    "sig = Signature(r,s)\n",
    "print(point.verify(z, sig))"
   ]
  },
  {
   "cell_type": "code",
   "execution_count": null,
   "metadata": {},
   "outputs": [],
   "source": []
  }
 ],
 "metadata": {
  "kernelspec": {
   "display_name": "Python 3",
   "language": "python",
   "name": "python3"
  },
  "language_info": {
   "codemirror_mode": {
    "name": "ipython",
    "version": 3
   },
   "file_extension": ".py",
   "mimetype": "text/x-python",
   "name": "python",
   "nbconvert_exporter": "python",
   "pygments_lexer": "ipython3",
   "version": "3.5.2"
  }
 },
 "nbformat": 4,
 "nbformat_minor": 2
}
